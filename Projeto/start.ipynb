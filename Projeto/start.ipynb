{
 "cells": [
  {
   "cell_type": "code",
   "execution_count": 1,
   "metadata": {},
   "outputs": [],
   "source": [
    "import cv2\n",
    "import numpy as np"
   ]
  },
  {
   "cell_type": "code",
   "execution_count": 2,
   "metadata": {},
   "outputs": [
    {
     "data": {
      "text/plain": [
       "array([[[27, 29, 40],\n",
       "        [28, 30, 41],\n",
       "        [27, 29, 40],\n",
       "        ...,\n",
       "        [78, 76, 65],\n",
       "        [78, 76, 65],\n",
       "        [76, 74, 63]],\n",
       "\n",
       "       [[26, 28, 39],\n",
       "        [26, 28, 39],\n",
       "        [26, 28, 39],\n",
       "        ...,\n",
       "        [76, 74, 63],\n",
       "        [76, 74, 63],\n",
       "        [74, 72, 61]],\n",
       "\n",
       "       [[25, 27, 38],\n",
       "        [25, 27, 38],\n",
       "        [24, 26, 37],\n",
       "        ...,\n",
       "        [75, 73, 62],\n",
       "        [75, 73, 62],\n",
       "        [74, 72, 61]],\n",
       "\n",
       "       ...,\n",
       "\n",
       "       [[ 6,  9, 13],\n",
       "        [ 4,  7, 11],\n",
       "        [ 4,  7, 11],\n",
       "        ...,\n",
       "        [27, 30, 34],\n",
       "        [26, 29, 34],\n",
       "        [28, 31, 35]],\n",
       "\n",
       "       [[ 4,  8,  9],\n",
       "        [ 3,  7,  8],\n",
       "        [ 5,  9, 10],\n",
       "        ...,\n",
       "        [29, 32, 37],\n",
       "        [27, 29, 37],\n",
       "        [28, 31, 36]],\n",
       "\n",
       "       [[ 3,  7,  8],\n",
       "        [ 3,  7,  8],\n",
       "        [ 7, 11, 12],\n",
       "        ...,\n",
       "        [32, 34, 42],\n",
       "        [32, 34, 42],\n",
       "        [34, 36, 44]]], dtype=uint8)"
      ]
     },
     "execution_count": 2,
     "metadata": {},
     "output_type": "execute_result"
    }
   ],
   "source": [
    "img = cv2.imread('IMG_20230925_220032.jpg')\n",
    "img"
   ]
  },
  {
   "cell_type": "code",
   "execution_count": 3,
   "metadata": {},
   "outputs": [
    {
     "data": {
      "text/plain": [
       "array([[32, 33, 32, ..., 73, 73, 71],\n",
       "       [31, 31, 31, ..., 71, 71, 69],\n",
       "       [30, 30, 29, ..., 70, 70, 69],\n",
       "       ...,\n",
       "       [10,  8,  8, ..., 31, 30, 32],\n",
       "       [ 8,  7,  9, ..., 33, 31, 32],\n",
       "       [ 7,  7, 11, ..., 36, 36, 38]], dtype=uint8)"
      ]
     },
     "execution_count": 3,
     "metadata": {},
     "output_type": "execute_result"
    }
   ],
   "source": [
    "gray_image = cv2.cvtColor(img, cv2.COLOR_BGR2GRAY)\n",
    "gray_image"
   ]
  },
  {
   "cell_type": "code",
   "execution_count": 4,
   "metadata": {},
   "outputs": [
    {
     "data": {
      "text/plain": [
       "True"
      ]
     },
     "execution_count": 4,
     "metadata": {},
     "output_type": "execute_result"
    }
   ],
   "source": [
    "_, thresholded_image = cv2.threshold(gray_image, 0, 255, cv2.THRESH_BINARY + cv2.THRESH_OTSU)\n",
    "#  contornos na imagem\n",
    "contours, _ = cv2.findContours(thresholded_image, cv2.RETR_EXTERNAL, cv2.CHAIN_APPROX_SIMPLE)\n",
    "# contornos dos objetos\n",
    "output_image = img.copy()\n",
    "cv2.drawContours(output_image, contours, -1, (0, 255, 0), 2)\n",
    "\n",
    "cv2.imwrite('imagem_objetos_destacados.png', output_image)\n"
   ]
  },
  {
   "cell_type": "code",
   "execution_count": 5,
   "metadata": {},
   "outputs": [
    {
     "data": {
      "text/plain": [
       "True"
      ]
     },
     "execution_count": 5,
     "metadata": {},
     "output_type": "execute_result"
    }
   ],
   "source": [
    "\n",
    "# contornos na imagem segmentada\n",
    "contours, _ = cv2.findContours(thresholded_image, cv2.RETR_EXTERNAL, cv2.CHAIN_APPROX_SIMPLE)\n",
    "mask = np.zeros_like(img)\n",
    "\n",
    "cv2.drawContours(mask, contours, -1, (255, 255, 255), thickness=cv2.FILLED)\n",
    "\n",
    "# aplica a mascara na imagem\n",
    "output_image = cv2.bitwise_and(img, mask)\n",
    "\n",
    "cv2.imwrite('objetos_identificados.png', output_image)\n"
   ]
  }
 ],
 "metadata": {
  "kernelspec": {
   "display_name": "Python 3",
   "language": "python",
   "name": "python3"
  },
  "language_info": {
   "codemirror_mode": {
    "name": "ipython",
    "version": 3
   },
   "file_extension": ".py",
   "mimetype": "text/x-python",
   "name": "python",
   "nbconvert_exporter": "python",
   "pygments_lexer": "ipython3",
   "version": "3.11.5"
  },
  "orig_nbformat": 4
 },
 "nbformat": 4,
 "nbformat_minor": 2
}
