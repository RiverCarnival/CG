{
 "cells": [
  {
   "cell_type": "code",
   "execution_count": 1,
   "metadata": {},
   "outputs": [],
   "source": [
    "import cv2\n",
    "import numpy as np"
   ]
  },
  {
   "cell_type": "code",
   "execution_count": 2,
   "metadata": {},
   "outputs": [],
   "source": [
    "def region_growing(image, seed):\n",
    "    height, width, _ = image.shape\n",
    "    segmented = np.zeros_like(image, dtype=np.uint8)\n",
    "    queue = []\n",
    "    \n",
    "    threshold = 30  # Limiar de similaridade\n",
    "    \n",
    "    queue.append(seed)\n",
    "    segmented[seed[0], seed[1], :] = image[seed[0], seed[1], :]\n",
    "    \n",
    "    while queue:\n",
    "        current_pixel = queue.pop(0)\n",
    "        for i in range(-1, 2):\n",
    "            for j in range(-1, 2):\n",
    "                x = current_pixel[0] + i\n",
    "                y = current_pixel[1] + j\n",
    "                \n",
    "                if 0 <= x < height and 0 <= y < width and np.all(segmented[x, y, :] == 0):\n",
    "                    diff = np.sum(np.abs(image[x, y, :] - image[current_pixel[0], current_pixel[1], :]))\n",
    "                    if diff < threshold:\n",
    "                        segmented[x, y, :] = image[x, y, :]\n",
    "                        queue.append((x, y))\n",
    "    \n",
    "    return segmented\n"
   ]
  },
  {
   "cell_type": "code",
   "execution_count": 3,
   "metadata": {},
   "outputs": [],
   "source": [
    "image_path = \"/home/river/Documentos/Computação Grafica/imagem.jpeg\"\n",
    "input_image = cv2.imread(image_path)"
   ]
  },
  {
   "cell_type": "code",
   "execution_count": 4,
   "metadata": {},
   "outputs": [],
   "source": [
    "seed_point = (100, 100)\n",
    "segmented_image = region_growing(input_image, seed_point)\n",
    "cv2.imwrite(\"segmentation_Image.jpeg\", segmented_image)"
   ]
  }
 ],
 "metadata": {
  "kernelspec": {
   "display_name": "Python 3",
   "language": "python",
   "name": "python3"
  },
  "language_info": {
   "codemirror_mode": {
    "name": "ipython",
    "version": 3
   },
   "file_extension": ".py",
   "mimetype": "text/x-python",
   "name": "python",
   "nbconvert_exporter": "python",
   "pygments_lexer": "ipython3",
   "version": "3.10.12"
  },
  "orig_nbformat": 4
 },
 "nbformat": 4,
 "nbformat_minor": 2
}
