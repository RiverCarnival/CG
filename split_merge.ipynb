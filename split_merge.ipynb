{
 "cells": [
  {
   "cell_type": "code",
   "execution_count": 1,
   "metadata": {},
   "outputs": [],
   "source": [
    "import cv2\n",
    "import numpy as np"
   ]
  },
  {
   "cell_type": "code",
   "execution_count": 2,
   "metadata": {},
   "outputs": [],
   "source": [
    "def split_and_merge(image, threshold):\n",
    "    # Converte a imagem para escala de cinza\n",
    "    gray_image = cv2.cvtColor(image, cv2.COLOR_BGR2GRAY)\n",
    "    \n",
    "    # Aplica uma segmentação simples\n",
    "    _, binary_image = cv2.threshold(gray_image, threshold, 255, cv2.THRESH_BINARY)\n",
    "    \n",
    "    # Encontra contornos na imagem binária\n",
    "    contours, _ = cv2.findContours(binary_image, cv2.RETR_EXTERNAL, cv2.CHAIN_APPROX_SIMPLE)\n",
    "    \n",
    "    # Cria uma imagem de saída vazia do mesmo tamanho da imagem original\n",
    "    output_image = np.zeros_like(image)\n",
    "    \n",
    "    # Desenha os contornos na imagem de saída\n",
    "    for contour in contours:\n",
    "        x, y, w, h = cv2.boundingRect(contour)\n",
    "        cv2.rectangle(output_image, (x, y), (x + w, y + h), (0, 255, 0), 2)\n",
    "    \n",
    "    return output_image"
   ]
  },
  {
   "cell_type": "code",
   "execution_count": 4,
   "metadata": {},
   "outputs": [
    {
     "data": {
      "text/plain": [
       "True"
      ]
     },
     "execution_count": 4,
     "metadata": {},
     "output_type": "execute_result"
    }
   ],
   "source": [
    "\n",
    "# Carrega a imagem de entrada\n",
    "image_path = \"/home/river/Documentos/Computação Grafica/imagem.jpeg\"\n",
    "input_image = cv2.imread(image_path)\n",
    "\n",
    "# Define um limiar para a segmentação\n",
    "threshold_value = 128\n",
    "\n",
    "# Aplica a técnica de split & merge\n",
    "output_image = split_and_merge(input_image, threshold_value)\n",
    "\n",
    "# Exibe a imagem de saída\n",
    "cv2.imwrite(\"Output_Image.jpeg\", output_image)"
   ]
  }
 ],
 "metadata": {
  "kernelspec": {
   "display_name": "Python 3",
   "language": "python",
   "name": "python3"
  },
  "language_info": {
   "codemirror_mode": {
    "name": "ipython",
    "version": 3
   },
   "file_extension": ".py",
   "mimetype": "text/x-python",
   "name": "python",
   "nbconvert_exporter": "python",
   "pygments_lexer": "ipython3",
   "version": "3.10.12"
  },
  "orig_nbformat": 4
 },
 "nbformat": 4,
 "nbformat_minor": 2
}
